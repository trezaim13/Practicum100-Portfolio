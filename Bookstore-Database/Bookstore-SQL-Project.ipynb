{
 "cells": [
  {
   "cell_type": "markdown",
   "metadata": {},
   "source": [
    "# Project Description"
   ]
  },
  {
   "cell_type": "markdown",
   "metadata": {},
   "source": [
    "The coronavirus took the entire world by surprise, changing everyone's daily routine. City dwellers no longer spent their free time outside, going to cafes and malls; more people were home, reading books. That attracted the attention of startups that rushed to develop new apps for book lovers.  \n",
    "    \n",
    "    \n",
    "This study's aim to generate a value proposition for a new product using a database of one of the services competing in this market which contains data on books, publishers, authors, and customer ratings and reviews of books.  \n",
    "    \n",
    "In the project we will be working with 5 datasets :\n",
    "- **`books`** : Which contains the following information on books : book_id, author_id, title, num_pages (number of pages), publication_date and publisher_id ;\n",
    "- **`authors`** : Which contains informations on authors : author_id and author ;\n",
    "- **`publishers`** : Which contains data on publishers : publisher_id and publisher ; \n",
    "- **`ratings`** : Which contains data on user ratings : rating_id, book_id, username (the name of the user who rated the book) and rating ;\n",
    "- **`reviews`** : Which contains data on customer reviews : review_id, book_id, username and text (the text of the review)."
   ]
  },
  {
   "cell_type": "markdown",
   "metadata": {},
   "source": [
    "# Table of contents  \n",
    "\n",
    "1. [Data Preprocessing and Exploratory Analysis](#1)   \n",
    "    1.1. [Importing and Examining Data](#11)    \n",
    "    1.2. [Outliers and Correlation](#12)   \n",
    "    1.3. [Client Study](#13) \n",
    "2. [Machine Learning and Predictions](#2)    \n",
    "3. [User Categorization](#3)     \n",
    "    3.1. [Hierarchical Clustering](#31)    \n",
    "    3.2. [K-Means Clustering](#32)   \n",
    "    3.3. [Cluster Visualization](#33)     \n",
    "4. [Conclusion](#4) \n",
    "   "
   ]
  },
  {
   "cell_type": "markdown",
   "metadata": {},
   "source": [
    "## 1.Examining Datasets <a name=\"1\"></a>"
   ]
  },
  {
   "cell_type": "markdown",
   "metadata": {},
   "source": [
    "**In this first phase, we will retreive the datasets we will be working with.**"
   ]
  },
  {
   "cell_type": "code",
   "execution_count": 1,
   "metadata": {},
   "outputs": [
    {
     "name": "stdout",
     "output_type": "stream",
     "text": [
      "Requirement already satisfied: seaborn in c:\\users\\hibaa\\anaconda3\\lib\\site-packages (0.11.2)\n",
      "Requirement already satisfied: matplotlib>=2.2 in c:\\users\\hibaa\\anaconda3\\lib\\site-packages (from seaborn) (3.3.4)\n",
      "Requirement already satisfied: pandas>=0.23 in c:\\users\\hibaa\\anaconda3\\lib\\site-packages (from seaborn) (1.2.4)\n",
      "Requirement already satisfied: numpy>=1.15 in c:\\users\\hibaa\\anaconda3\\lib\\site-packages (from seaborn) (1.20.1)\n",
      "Requirement already satisfied: scipy>=1.0 in c:\\users\\hibaa\\anaconda3\\lib\\site-packages (from seaborn) (1.6.2)\n",
      "Requirement already satisfied: python-dateutil>=2.1 in c:\\users\\hibaa\\anaconda3\\lib\\site-packages (from matplotlib>=2.2->seaborn) (2.8.1)\n",
      "Requirement already satisfied: kiwisolver>=1.0.1 in c:\\users\\hibaa\\anaconda3\\lib\\site-packages (from matplotlib>=2.2->seaborn) (1.3.1)\n",
      "Requirement already satisfied: cycler>=0.10 in c:\\users\\hibaa\\anaconda3\\lib\\site-packages (from matplotlib>=2.2->seaborn) (0.10.0)\n",
      "Requirement already satisfied: pillow>=6.2.0 in c:\\users\\hibaa\\anaconda3\\lib\\site-packages (from matplotlib>=2.2->seaborn) (8.2.0)\n",
      "Requirement already satisfied: pyparsing!=2.0.4,!=2.1.2,!=2.1.6,>=2.0.3 in c:\\users\\hibaa\\anaconda3\\lib\\site-packages (from matplotlib>=2.2->seaborn) (2.4.7)\n",
      "Requirement already satisfied: six in c:\\users\\hibaa\\anaconda3\\lib\\site-packages (from cycler>=0.10->matplotlib>=2.2->seaborn) (1.15.0)\n",
      "Requirement already satisfied: pytz>=2017.3 in c:\\users\\hibaa\\anaconda3\\lib\\site-packages (from pandas>=0.23->seaborn) (2021.1)\n"
     ]
    }
   ],
   "source": [
    "!pip install seaborn --upgrade"
   ]
  },
  {
   "cell_type": "code",
   "execution_count": 2,
   "metadata": {},
   "outputs": [
    {
     "ename": "ModuleNotFoundError",
     "evalue": "No module named 'psycopg2'",
     "output_type": "error",
     "traceback": [
      "\u001b[1;31m---------------------------------------------------------------------------\u001b[0m",
      "\u001b[1;31mModuleNotFoundError\u001b[0m                       Traceback (most recent call last)",
      "\u001b[1;32m<ipython-input-2-c64a1eb00435>\u001b[0m in \u001b[0;36m<module>\u001b[1;34m\u001b[0m\n\u001b[0;32m     21\u001b[0m                                                                        db_config['db'])\n\u001b[0;32m     22\u001b[0m \u001b[1;33m\u001b[0m\u001b[0m\n\u001b[1;32m---> 23\u001b[1;33m \u001b[0mengine\u001b[0m \u001b[1;33m=\u001b[0m \u001b[0mcreate_engine\u001b[0m\u001b[1;33m(\u001b[0m\u001b[0mconnection_string\u001b[0m\u001b[1;33m,\u001b[0m \u001b[0mconnect_args\u001b[0m\u001b[1;33m=\u001b[0m\u001b[1;33m{\u001b[0m\u001b[1;34m'sslmode'\u001b[0m\u001b[1;33m:\u001b[0m\u001b[1;34m'require'\u001b[0m\u001b[1;33m}\u001b[0m\u001b[1;33m)\u001b[0m\u001b[1;33m\u001b[0m\u001b[1;33m\u001b[0m\u001b[0m\n\u001b[0m",
      "\u001b[1;32m<string>\u001b[0m in \u001b[0;36mcreate_engine\u001b[1;34m(url, **kwargs)\u001b[0m\n",
      "\u001b[1;32m~\\anaconda3\\lib\\site-packages\\sqlalchemy\\util\\deprecations.py\u001b[0m in \u001b[0;36mwarned\u001b[1;34m(fn, *args, **kwargs)\u001b[0m\n\u001b[0;32m    296\u001b[0m                         \u001b[0mstacklevel\u001b[0m\u001b[1;33m=\u001b[0m\u001b[1;36m3\u001b[0m\u001b[1;33m,\u001b[0m\u001b[1;33m\u001b[0m\u001b[1;33m\u001b[0m\u001b[0m\n\u001b[0;32m    297\u001b[0m                     )\n\u001b[1;32m--> 298\u001b[1;33m             \u001b[1;32mreturn\u001b[0m \u001b[0mfn\u001b[0m\u001b[1;33m(\u001b[0m\u001b[1;33m*\u001b[0m\u001b[0margs\u001b[0m\u001b[1;33m,\u001b[0m \u001b[1;33m**\u001b[0m\u001b[0mkwargs\u001b[0m\u001b[1;33m)\u001b[0m\u001b[1;33m\u001b[0m\u001b[1;33m\u001b[0m\u001b[0m\n\u001b[0m\u001b[0;32m    299\u001b[0m \u001b[1;33m\u001b[0m\u001b[0m\n\u001b[0;32m    300\u001b[0m         \u001b[0mdoc\u001b[0m \u001b[1;33m=\u001b[0m \u001b[0mfn\u001b[0m\u001b[1;33m.\u001b[0m\u001b[0m__doc__\u001b[0m \u001b[1;32mis\u001b[0m \u001b[1;32mnot\u001b[0m \u001b[1;32mNone\u001b[0m \u001b[1;32mand\u001b[0m \u001b[0mfn\u001b[0m\u001b[1;33m.\u001b[0m\u001b[0m__doc__\u001b[0m \u001b[1;32mor\u001b[0m \u001b[1;34m\"\"\u001b[0m\u001b[1;33m\u001b[0m\u001b[1;33m\u001b[0m\u001b[0m\n",
      "\u001b[1;32m~\\anaconda3\\lib\\site-packages\\sqlalchemy\\engine\\create.py\u001b[0m in \u001b[0;36mcreate_engine\u001b[1;34m(url, **kwargs)\u001b[0m\n\u001b[0;32m    546\u001b[0m             \u001b[1;32mif\u001b[0m \u001b[0mk\u001b[0m \u001b[1;32min\u001b[0m \u001b[0mkwargs\u001b[0m\u001b[1;33m:\u001b[0m\u001b[1;33m\u001b[0m\u001b[1;33m\u001b[0m\u001b[0m\n\u001b[0;32m    547\u001b[0m                 \u001b[0mdbapi_args\u001b[0m\u001b[1;33m[\u001b[0m\u001b[0mk\u001b[0m\u001b[1;33m]\u001b[0m \u001b[1;33m=\u001b[0m \u001b[0mpop_kwarg\u001b[0m\u001b[1;33m(\u001b[0m\u001b[0mk\u001b[0m\u001b[1;33m)\u001b[0m\u001b[1;33m\u001b[0m\u001b[1;33m\u001b[0m\u001b[0m\n\u001b[1;32m--> 548\u001b[1;33m         \u001b[0mdbapi\u001b[0m \u001b[1;33m=\u001b[0m \u001b[0mdialect_cls\u001b[0m\u001b[1;33m.\u001b[0m\u001b[0mdbapi\u001b[0m\u001b[1;33m(\u001b[0m\u001b[1;33m**\u001b[0m\u001b[0mdbapi_args\u001b[0m\u001b[1;33m)\u001b[0m\u001b[1;33m\u001b[0m\u001b[1;33m\u001b[0m\u001b[0m\n\u001b[0m\u001b[0;32m    549\u001b[0m \u001b[1;33m\u001b[0m\u001b[0m\n\u001b[0;32m    550\u001b[0m     \u001b[0mdialect_args\u001b[0m\u001b[1;33m[\u001b[0m\u001b[1;34m\"dbapi\"\u001b[0m\u001b[1;33m]\u001b[0m \u001b[1;33m=\u001b[0m \u001b[0mdbapi\u001b[0m\u001b[1;33m\u001b[0m\u001b[1;33m\u001b[0m\u001b[0m\n",
      "\u001b[1;32m~\\anaconda3\\lib\\site-packages\\sqlalchemy\\dialects\\postgresql\\psycopg2.py\u001b[0m in \u001b[0;36mdbapi\u001b[1;34m(cls)\u001b[0m\n\u001b[0;32m    751\u001b[0m     \u001b[1;33m@\u001b[0m\u001b[0mclassmethod\u001b[0m\u001b[1;33m\u001b[0m\u001b[1;33m\u001b[0m\u001b[0m\n\u001b[0;32m    752\u001b[0m     \u001b[1;32mdef\u001b[0m \u001b[0mdbapi\u001b[0m\u001b[1;33m(\u001b[0m\u001b[0mcls\u001b[0m\u001b[1;33m)\u001b[0m\u001b[1;33m:\u001b[0m\u001b[1;33m\u001b[0m\u001b[1;33m\u001b[0m\u001b[0m\n\u001b[1;32m--> 753\u001b[1;33m         \u001b[1;32mimport\u001b[0m \u001b[0mpsycopg2\u001b[0m\u001b[1;33m\u001b[0m\u001b[1;33m\u001b[0m\u001b[0m\n\u001b[0m\u001b[0;32m    754\u001b[0m \u001b[1;33m\u001b[0m\u001b[0m\n\u001b[0;32m    755\u001b[0m         \u001b[1;32mreturn\u001b[0m \u001b[0mpsycopg2\u001b[0m\u001b[1;33m\u001b[0m\u001b[1;33m\u001b[0m\u001b[0m\n",
      "\u001b[1;31mModuleNotFoundError\u001b[0m: No module named 'psycopg2'"
     ]
    }
   ],
   "source": [
    "# Import libraries\n",
    "import pandas as pd\n",
    "import numpy as np\n",
    "import datetime as dt\n",
    "import matplotlib.pyplot as plt\n",
    "import seaborn as sns\n",
    "\n",
    "from sqlalchemy import create_engine\n",
    "\n",
    "\n",
    "db_config = {'user': 'practicum_student',         # username\n",
    "             'pwd': 's65BlTKV3faNIGhmvJVzOqhs', # password\n",
    "             'host': 'rc1b-wcoijxj3yxfsf3fs.mdb.yandexcloud.net',\n",
    "             'port': 6432,              # connection port\n",
    "             'db': 'data-analyst-final-project-db'}          # the name of the database\n",
    "\n",
    "connection_string = 'postgresql://{}:{}@{}:{}/{}'.format(db_config['user'],\n",
    "                                                                     db_config['pwd'],\n",
    "                                                                       db_config['host'],\n",
    "                                                                       db_config['port'],\n",
    "                                                                       db_config['db'])\n",
    "\n",
    "engine = create_engine(connection_string, connect_args={'sslmode':'require'})"
   ]
  },
  {
   "cell_type": "code",
   "execution_count": null,
   "metadata": {
    "scrolled": false
   },
   "outputs": [],
   "source": [
    "# Retrieving datasets\n",
    "Q_books = '''SELECT * FROM books '''\n",
    "Q_authors = '''SELECT * FROM authors '''\n",
    "Q_publishers = '''SELECT * FROM publishers'''\n",
    "Q_ratings = '''SELECT * FROM ratings '''\n",
    "Q_reviews = '''SELECT * FROM reviews '''\n",
    "        \n",
    "books = pd.io.sql.read_sql(Q_books, con = engine)\n",
    "authors = pd.io.sql.read_sql(Q_authors, con = engine)\n",
    "publishers = pd.io.sql.read_sql(Q_publishers, con = engine)\n",
    "ratings = pd.io.sql.read_sql(Q_ratings, con = engine)\n",
    "reviews = pd.io.sql.read_sql(Q_reviews, con = engine)\n",
    "\n",
    "# Displaying heads of the datasets\n",
    "print('-------------------------------------------- Books Dataset --------------------------------------------')\n",
    "display(books.head())\n",
    "print('------------------------------------------- Authors Dataset -------------------------------------------')\n",
    "display(authors.head())\n",
    "print('----------------------------------------- Publishers Dataset ------------------------------------------')\n",
    "display(publishers.head())\n",
    "print('------------------------------------------- Ratings Dataset -------------------------------------------')\n",
    "display(ratings.head())\n",
    "print('------------------------------------------- Reviews Dataset -------------------------------------------')\n",
    "display(reviews.head())\n",
    "\n",
    "# Infos about the datatsets\n",
    "print('------------------------------------- Books Dataset Informations --------------------------------------')\n",
    "display(books.info())\n",
    "print('------------------------------------ Authors Dataset Informations -------------------------------------')\n",
    "display(authors.info())\n",
    "print('----------------------------------- Publishers Dataset Informations -----------------------------------')\n",
    "display(publishers.info())\n",
    "print('------------------------------------ Ratings Dataset Informations -------------------------------------')\n",
    "display(ratings.info())\n",
    "print('------------------------------------ Reviews Dataset Informations -------------------------------------')\n",
    "display(reviews.info())"
   ]
  },
  {
   "cell_type": "markdown",
   "metadata": {},
   "source": [
    "**Observations :** \n",
    "    \n",
    "From the above displays, we see that we are working with 5 datasets with no missing data. "
   ]
  },
  {
   "cell_type": "markdown",
   "metadata": {},
   "source": [
    "## 2. Data Analysis  <a name=\"2\"></a>"
   ]
  },
  {
   "cell_type": "markdown",
   "metadata": {},
   "source": [
    "### 2.1. Book Releases  <a name=\"21\"></a>"
   ]
  },
  {
   "cell_type": "markdown",
   "metadata": {},
   "source": [
    "We will calculate how many books were released after the 1st of January."
   ]
  },
  {
   "cell_type": "code",
   "execution_count": null,
   "metadata": {},
   "outputs": [],
   "source": [
    "Q1 = '''\n",
    "        SELECT \n",
    "            COUNT (DISTINCT (book_id))\n",
    "        FROM\n",
    "            books\n",
    "        WHERE\n",
    "            publication_date > '2000-01-01'\n",
    "     '''\n",
    "book_count = pd.io.sql.read_sql(Q1, con = engine).iloc[0][0]\n",
    "\n",
    "print('------------------------------------------------------------------------------------------')\n",
    "print('')\n",
    "print('The number of book released after the 1st of January 2000 is :', book_count, 'books')\n",
    "print('')\n",
    "print('------------------------------------------------------------------------------------------')"
   ]
  },
  {
   "cell_type": "markdown",
   "metadata": {},
   "source": [
    "**Observations :**  \n",
    "\n",
    "819 books were released after the 1st of January 2000, which makes for 81,9% of the total releases.\n"
   ]
  },
  {
   "cell_type": "markdown",
   "metadata": {},
   "source": [
    "### 2.2. Reviews and Ratings  <a name=\"22\"></a>"
   ]
  },
  {
   "cell_type": "markdown",
   "metadata": {},
   "source": [
    "We will calculate the number of user reviews and the average rating for each book."
   ]
  },
  {
   "cell_type": "code",
   "execution_count": null,
   "metadata": {},
   "outputs": [],
   "source": [
    "Q2 = '''\n",
    "        SELECT\n",
    "            books.book_id,\n",
    "            COUNT(reviews.username) as Reviews_count,\n",
    "            ROUND(AVG(rating), 2) as Average_rating\n",
    "            \n",
    "        FROM\n",
    "            books \n",
    "            LEFT JOIN reviews ON (books.book_id = reviews.book_id)\n",
    "            LEFT JOIN ratings ON (books.book_id = ratings.book_id)\n",
    "        GROUP BY\n",
    "            books.book_id\n",
    "     '''\n",
    "reviews_ratings = pd.io.sql.read_sql(Q2, con = engine)\n",
    "\n",
    "#Display\n",
    "reviews_ratings.sort_values(by = 'book_id').head()\n"
   ]
  },
  {
   "cell_type": "code",
   "execution_count": null,
   "metadata": {},
   "outputs": [],
   "source": [
    "# Dataset description\n",
    "display(reviews_ratings.describe())\n",
    "\n",
    "# Plot bar chart\n",
    "sns.set_style(\"darkgrid\")\n",
    "sns.displot(reviews_ratings, x = 'average_rating', kde = True, alpha = .5, \n",
    "            color = '#b2182b',\n",
    "            height = 5 , aspect = 2)\n",
    "plt.title('Average Ratings Distribution')\n",
    "plt.show() \n",
    "\n",
    "# Plot bar chart\n",
    "sns.set_style(\"darkgrid\")\n",
    "sns.displot(reviews_ratings, x = 'reviews_count', kde = True, alpha = .5, bins = 50,\n",
    "            height = 5 , aspect = 2)\n",
    "plt.title('Reviews Count Distribution')\n",
    "plt.show() "
   ]
  },
  {
   "cell_type": "markdown",
   "metadata": {},
   "source": [
    "**Observations :**  \n",
    "    \n",
    "We notice from the 'Average Ratings Distribution' graph above that **the majority of books are rated between 3,5 and 4,5 while there is a minority of books rated under 2,5**. For the 'Reviews Count Distribution', we notice that **the majority of books have no reviews while there are books that got more than 1120 reviews**.  \n",
    "    \n",
    "The mean average rating of the books is 3,9 and the averages number of reviews is 26 reviews. Also **the minimum average rating for a book is 1,5 while the maximum is 5**."
   ]
  },
  {
   "cell_type": "markdown",
   "metadata": {},
   "source": [
    "### 2.3. The Most Active Publisher  <a name=\"23\"></a>"
   ]
  },
  {
   "cell_type": "code",
   "execution_count": null,
   "metadata": {
    "scrolled": false
   },
   "outputs": [],
   "source": [
    "Q3 = '''\n",
    "        SELECT publishers.publisher, count(*) \n",
    "        FROM publishers\n",
    "        LEFT JOIN \"books\" ON \"publishers\".\"publisher_id\" = \"books\".\"publisher_id\" \n",
    "        GROUP BY publishers.publisher_id\n",
    "        HAVING COUNT(publishers.publisher_id) = (SELECT COUNT(publisher_id) \n",
    "                         FROM   books\n",
    "                         WHERE num_pages > 50\n",
    "                         GROUP  BY publisher_id\n",
    "                         ORDER  BY COUNT(publisher_id) DESC \n",
    "                         LIMIT  1)  \n",
    "     '''\n",
    "\n",
    "\n",
    "best_publisher = pd.io.sql.read_sql(Q3, con = engine)\n",
    "\n",
    "#Display\n",
    "best_publisher\n"
   ]
  },
  {
   "cell_type": "markdown",
   "metadata": {},
   "source": [
    "**Observations :**  \n",
    "    \n",
    "**The most active publisher with books exceeding 50 pages is 'Penguin Books' with 42 books published.**\n"
   ]
  },
  {
   "cell_type": "markdown",
   "metadata": {},
   "source": [
    "### 2.4. Highest Rated Author  <a name=\"24\"></a>"
   ]
  },
  {
   "cell_type": "markdown",
   "metadata": {},
   "source": [
    "We will identify the author with the highest average book rating for books with more than 50 ratings."
   ]
  },
  {
   "cell_type": "code",
   "execution_count": null,
   "metadata": {
    "scrolled": false
   },
   "outputs": [],
   "source": [
    "Q4 = '''\n",
    "        SELECT books.title, authors.author, COUNT(*) , ROUND(AVG(ratings.rating),2)\n",
    "        FROM books\n",
    "        LEFT JOIN \"authors\" ON \"authors\".\"author_id\" = \"books\".\"author_id\" \n",
    "        LEFT JOIN \"ratings\" ON \"books\".\"book_id\" = \"ratings\".\"book_id\" \n",
    "        GROUP BY books.title, authors.author\n",
    "        HAVING AVG(ratings.rating) = (SELECT AVG(ratings.rating) \n",
    "                         FROM books\n",
    "                         LEFT JOIN \"ratings\" ON \"books\".\"book_id\" = \"ratings\".\"book_id\"\n",
    "                         GROUP  BY books.book_id\n",
    "                         HAVING COUNT(ratings.rating) > 50\n",
    "                         ORDER  BY AVG(ratings.rating) DESC \n",
    "                         LIMIT  1)\n",
    "                    \n",
    "     '''\n",
    "\n",
    "\n",
    "highest_rated_author = pd.io.sql.read_sql(Q4, con = engine)\n",
    "\n",
    "#Display\n",
    "highest_rated_author\n"
   ]
  },
  {
   "cell_type": "markdown",
   "metadata": {},
   "source": [
    "**Observations :**  \n",
    "    \n",
    "The highest rated author with more than 50 ratings for a book is : **J.K. Rowling and Mary GrandPré with their book \"Harry Potter and the Prisoner of Azkaban\" which has averaged at 4.41 with 82 ratings.**"
   ]
  },
  {
   "cell_type": "markdown",
   "metadata": {},
   "source": [
    "### 2.5. Average Number of Reviews  <a name=\"25\"></a>"
   ]
  },
  {
   "cell_type": "markdown",
   "metadata": {},
   "source": [
    "We will now find the average number of text reviews among users who rated more than 50 books."
   ]
  },
  {
   "cell_type": "code",
   "execution_count": null,
   "metadata": {},
   "outputs": [],
   "source": [
    "Q5 = '''\n",
    "        SELECT ROUND(AVG(Count),2)\n",
    "        FROM ( SELECT COUNT(reviews.review_id) as Count\n",
    "                FROM reviews \n",
    "                GROUP BY reviews.username\n",
    "                HAVING reviews.username IN (SELECT ratings.username\n",
    "                                            FROM ratings\n",
    "                                            GROUP BY ratings.username\n",
    "                                            HAVING COUNT(ratings.rating_id) > 50 )\n",
    "                ) as Counting\n",
    "                    \n",
    "     '''\n",
    "\n",
    "\n",
    "average_reviews_count = pd.io.sql.read_sql(Q5, con = engine).iloc[0][0]\n",
    "\n",
    "#Display\n",
    "print('------------------------------------------------------------------------------------------')\n",
    "print('')\n",
    "print('The average number of reviews among users who rated more than 50 books is :', average_reviews_count, 'reviews per user.')\n",
    "print('')\n",
    "print('------------------------------------------------------------------------------------------')"
   ]
  },
  {
   "cell_type": "code",
   "execution_count": null,
   "metadata": {
    "scrolled": false
   },
   "outputs": [],
   "source": [
    "Q6 = '''\n",
    "        SELECT ROUND(AVG(subq.Count),2)\n",
    "        FROM ( SELECT \n",
    "                    COUNT(reviews.review_id) as Count\n",
    "                FROM reviews \n",
    "                GROUP BY reviews.username\n",
    "                having reviews.username IN(SELECT ratings.username\n",
    "                                            FROM ratings\n",
    "                                            GROUP BY ratings.username\n",
    "                                            HAVING COUNT(ratings.rating_id) > 50 )\n",
    "                ) as subq\n",
    "                    \n",
    "     '''\n",
    "\n",
    "\n",
    "average_reviews_count = pd.io.sql.read_sql(Q6, con = engine).iloc[0][0]\n",
    "\n",
    "#Display\n",
    "print('------------------------------------------------------------------------------------------')\n",
    "print('')\n",
    "print('The average number of reviews among users who rated more than 50 books is :', average_reviews_count, 'reviews per user.')\n",
    "print('')\n",
    "print('------------------------------------------------------------------------------------------')"
   ]
  },
  {
   "cell_type": "markdown",
   "metadata": {},
   "source": [
    "**Observations :**  \n",
    "    \n",
    "The average number of reviews among the active users who have rated more than 50 books is : **24,33 reviews per user.**"
   ]
  }
 ],
 "metadata": {
  "ExecuteTimeLog": [
   {
    "duration": 97,
    "start_time": "2021-08-12T16:26:17.215Z"
   },
   {
    "duration": 822,
    "start_time": "2021-08-12T16:26:26.826Z"
   },
   {
    "duration": 400,
    "start_time": "2021-08-12T16:27:02.276Z"
   },
   {
    "duration": 8,
    "start_time": "2021-08-12T16:32:51.595Z"
   },
   {
    "duration": 5,
    "start_time": "2021-08-12T16:33:37.090Z"
   },
   {
    "duration": 92,
    "start_time": "2021-08-12T16:33:47.714Z"
   },
   {
    "duration": 243,
    "start_time": "2021-08-12T16:35:02.550Z"
   },
   {
    "duration": 638,
    "start_time": "2021-08-12T16:35:09.692Z"
   },
   {
    "duration": 98,
    "start_time": "2021-08-12T16:35:25.093Z"
   },
   {
    "duration": 101,
    "start_time": "2021-08-12T16:35:30.225Z"
   },
   {
    "duration": 416,
    "start_time": "2021-08-12T16:35:40.170Z"
   },
   {
    "duration": 77,
    "start_time": "2021-08-12T16:35:52.660Z"
   },
   {
    "duration": 72,
    "start_time": "2021-08-12T16:35:58.641Z"
   },
   {
    "duration": 117,
    "start_time": "2021-08-12T20:52:02.039Z"
   },
   {
    "duration": 887,
    "start_time": "2021-08-12T21:43:18.168Z"
   },
   {
    "duration": 483,
    "start_time": "2021-08-12T21:52:17.720Z"
   },
   {
    "duration": 34,
    "start_time": "2021-08-12T21:59:36.625Z"
   },
   {
    "duration": 115,
    "start_time": "2021-08-12T23:47:47.514Z"
   },
   {
    "duration": 605,
    "start_time": "2021-08-12T23:47:52.722Z"
   },
   {
    "duration": 599,
    "start_time": "2021-08-12T23:48:07.273Z"
   },
   {
    "duration": 633,
    "start_time": "2021-08-12T23:48:17.867Z"
   },
   {
    "duration": 25,
    "start_time": "2021-08-12T23:48:43.885Z"
   },
   {
    "duration": 122,
    "start_time": "2021-08-12T23:53:56.290Z"
   },
   {
    "duration": 149,
    "start_time": "2021-08-12T23:54:02.970Z"
   },
   {
    "duration": 125,
    "start_time": "2021-08-12T23:54:27.121Z"
   },
   {
    "duration": 104,
    "start_time": "2021-08-12T23:55:09.438Z"
   },
   {
    "duration": 121,
    "start_time": "2021-08-12T23:57:01.189Z"
   },
   {
    "duration": 120,
    "start_time": "2021-08-12T23:57:38.002Z"
   },
   {
    "duration": 5,
    "start_time": "2021-08-12T23:58:27.343Z"
   },
   {
    "duration": 150,
    "start_time": "2021-08-12T23:58:29.354Z"
   },
   {
    "duration": 138,
    "start_time": "2021-08-13T00:03:18.583Z"
   },
   {
    "duration": 381,
    "start_time": "2021-08-13T01:40:35.017Z"
   },
   {
    "duration": 383,
    "start_time": "2021-08-13T01:42:39.920Z"
   },
   {
    "duration": 360,
    "start_time": "2021-08-13T01:42:45.690Z"
   },
   {
    "duration": 370,
    "start_time": "2021-08-13T01:43:16.818Z"
   },
   {
    "duration": 358,
    "start_time": "2021-08-13T01:43:24.784Z"
   },
   {
    "duration": 12,
    "start_time": "2021-08-13T01:45:48.671Z"
   },
   {
    "duration": 11,
    "start_time": "2021-08-13T01:46:13.910Z"
   },
   {
    "duration": 9149,
    "start_time": "2021-08-13T01:46:46.625Z"
   },
   {
    "duration": 12,
    "start_time": "2021-08-13T01:47:12.418Z"
   },
   {
    "duration": 11,
    "start_time": "2021-08-13T01:47:23.768Z"
   },
   {
    "duration": 14,
    "start_time": "2021-08-13T01:47:32.364Z"
   },
   {
    "duration": 8397,
    "start_time": "2021-08-13T01:47:37.698Z"
   },
   {
    "duration": 12,
    "start_time": "2021-08-13T01:48:24.640Z"
   },
   {
    "duration": 370,
    "start_time": "2021-08-13T01:48:44.974Z"
   },
   {
    "duration": 12,
    "start_time": "2021-08-13T01:49:08.804Z"
   },
   {
    "duration": 16,
    "start_time": "2021-08-13T01:49:27.320Z"
   },
   {
    "duration": 13,
    "start_time": "2021-08-13T01:52:06.347Z"
   },
   {
    "duration": 14,
    "start_time": "2021-08-13T01:53:16.891Z"
   },
   {
    "duration": 16,
    "start_time": "2021-08-13T01:53:24.970Z"
   },
   {
    "duration": 381,
    "start_time": "2021-08-13T13:01:03.250Z"
   },
   {
    "duration": 847,
    "start_time": "2021-08-13T13:01:10.659Z"
   },
   {
    "duration": 707,
    "start_time": "2021-08-13T13:01:11.550Z"
   },
   {
    "duration": 70,
    "start_time": "2021-08-13T13:01:15.474Z"
   },
   {
    "duration": 70,
    "start_time": "2021-08-13T13:01:20.237Z"
   },
   {
    "duration": 73,
    "start_time": "2021-08-13T14:26:47.716Z"
   },
   {
    "duration": 72,
    "start_time": "2021-08-13T14:27:10.189Z"
   },
   {
    "duration": 72,
    "start_time": "2021-08-13T14:30:56.871Z"
   },
   {
    "duration": 369,
    "start_time": "2021-08-13T14:31:44.844Z"
   },
   {
    "duration": 333,
    "start_time": "2021-08-13T14:32:20.574Z"
   },
   {
    "duration": 89,
    "start_time": "2021-08-13T14:34:11.340Z"
   },
   {
    "duration": 349,
    "start_time": "2021-08-13T14:34:32.656Z"
   },
   {
    "duration": 367,
    "start_time": "2021-08-13T14:50:31.003Z"
   },
   {
    "duration": 415,
    "start_time": "2021-08-13T14:51:12.798Z"
   },
   {
    "duration": 335,
    "start_time": "2021-08-13T14:51:28.376Z"
   },
   {
    "duration": 386,
    "start_time": "2021-08-13T14:51:37.696Z"
   },
   {
    "duration": 94,
    "start_time": "2021-08-13T14:52:21.147Z"
   },
   {
    "duration": 335,
    "start_time": "2021-08-13T14:52:48.005Z"
   },
   {
    "duration": 92,
    "start_time": "2021-08-13T14:54:08.562Z"
   },
   {
    "duration": 90,
    "start_time": "2021-08-13T14:54:23.617Z"
   },
   {
    "duration": 90,
    "start_time": "2021-08-13T14:54:57.311Z"
   },
   {
    "duration": 102,
    "start_time": "2021-08-13T14:56:19.082Z"
   },
   {
    "duration": 98,
    "start_time": "2021-08-13T14:57:14.135Z"
   },
   {
    "duration": 93,
    "start_time": "2021-08-13T14:57:40.364Z"
   },
   {
    "duration": 28,
    "start_time": "2021-08-13T15:11:31.044Z"
   },
   {
    "duration": 1238,
    "start_time": "2021-08-13T15:13:08.890Z"
   },
   {
    "duration": 769,
    "start_time": "2021-08-13T15:13:10.131Z"
   },
   {
    "duration": 75,
    "start_time": "2021-08-13T15:13:12.622Z"
   },
   {
    "duration": 100,
    "start_time": "2021-08-13T15:13:15.594Z"
   },
   {
    "duration": 950,
    "start_time": "2021-08-13T15:32:13.819Z"
   },
   {
    "duration": 285,
    "start_time": "2021-08-13T15:32:30.557Z"
   },
   {
    "duration": 450,
    "start_time": "2021-08-13T15:32:57.252Z"
   },
   {
    "duration": 497,
    "start_time": "2021-08-13T15:33:16.105Z"
   },
   {
    "duration": 311,
    "start_time": "2021-08-13T15:38:41.177Z"
   },
   {
    "duration": 23640,
    "start_time": "2021-08-13T15:39:11.932Z"
   },
   {
    "duration": 8,
    "start_time": "2021-08-13T15:39:35.575Z"
   },
   {
    "duration": 694,
    "start_time": "2021-08-13T15:39:35.586Z"
   },
   {
    "duration": 74,
    "start_time": "2021-08-13T15:39:36.283Z"
   },
   {
    "duration": 90,
    "start_time": "2021-08-13T15:39:36.360Z"
   },
   {
    "duration": 281,
    "start_time": "2021-08-13T15:39:36.452Z"
   },
   {
    "duration": 7108,
    "start_time": "2021-08-13T15:44:53.022Z"
   },
   {
    "duration": 1955,
    "start_time": "2021-08-13T15:45:00.133Z"
   },
   {
    "duration": 2907,
    "start_time": "2021-08-13T15:44:59.184Z"
   },
   {
    "duration": 2908,
    "start_time": "2021-08-13T15:44:59.185Z"
   },
   {
    "duration": 2908,
    "start_time": "2021-08-13T15:44:59.186Z"
   },
   {
    "duration": 2909,
    "start_time": "2021-08-13T15:44:59.187Z"
   },
   {
    "duration": 2026,
    "start_time": "2021-08-13T16:04:12.480Z"
   },
   {
    "duration": 7365,
    "start_time": "2021-08-13T16:04:16.168Z"
   },
   {
    "duration": 131,
    "start_time": "2021-08-13T16:04:32.405Z"
   },
   {
    "duration": 7055,
    "start_time": "2021-08-13T16:04:38.926Z"
   },
   {
    "duration": 294,
    "start_time": "2021-08-13T16:07:12.853Z"
   },
   {
    "duration": 7,
    "start_time": "2021-08-13T16:07:21.769Z"
   },
   {
    "duration": 6952,
    "start_time": "2021-08-13T16:07:31.921Z"
   },
   {
    "duration": 653,
    "start_time": "2021-08-13T16:07:49.711Z"
   },
   {
    "duration": 73,
    "start_time": "2021-08-13T16:07:51.993Z"
   },
   {
    "duration": 104,
    "start_time": "2021-08-13T16:07:53.510Z"
   },
   {
    "duration": 263,
    "start_time": "2021-08-13T16:07:54.668Z"
   },
   {
    "duration": 1334,
    "start_time": "2021-08-13T16:08:19.286Z"
   },
   {
    "duration": 1235,
    "start_time": "2021-08-13T16:08:43.071Z"
   },
   {
    "duration": 1028,
    "start_time": "2021-08-13T16:09:15.293Z"
   },
   {
    "duration": 1067,
    "start_time": "2021-08-13T16:09:26.504Z"
   },
   {
    "duration": 3455,
    "start_time": "2021-08-13T16:10:46.274Z"
   },
   {
    "duration": 3423,
    "start_time": "2021-08-13T16:11:20.019Z"
   },
   {
    "duration": 3601,
    "start_time": "2021-08-13T16:11:28.558Z"
   },
   {
    "duration": 3710,
    "start_time": "2021-08-13T16:11:54.768Z"
   },
   {
    "duration": 3506,
    "start_time": "2021-08-13T16:12:10.711Z"
   },
   {
    "duration": 3584,
    "start_time": "2021-08-13T16:12:31.878Z"
   },
   {
    "duration": 3457,
    "start_time": "2021-08-13T16:12:44.088Z"
   },
   {
    "duration": 95,
    "start_time": "2021-08-13T16:13:04.002Z"
   },
   {
    "duration": 2483,
    "start_time": "2021-08-13T16:13:08.409Z"
   },
   {
    "duration": 2267,
    "start_time": "2021-08-13T16:14:37.495Z"
   },
   {
    "duration": 278,
    "start_time": "2021-08-13T16:18:39.770Z"
   },
   {
    "duration": 5,
    "start_time": "2021-08-13T16:18:54.152Z"
   },
   {
    "duration": 331,
    "start_time": "2021-08-13T16:19:09.120Z"
   },
   {
    "duration": 27,
    "start_time": "2021-08-13T16:21:36.605Z"
   },
   {
    "duration": 5657,
    "start_time": "2021-08-13T19:03:28.235Z"
   },
   {
    "duration": 1569,
    "start_time": "2021-08-13T19:03:33.898Z"
   },
   {
    "duration": 618,
    "start_time": "2021-08-13T19:03:35.470Z"
   },
   {
    "duration": 66,
    "start_time": "2021-08-13T19:03:36.092Z"
   },
   {
    "duration": 86,
    "start_time": "2021-08-13T19:03:36.161Z"
   },
   {
    "duration": 2281,
    "start_time": "2021-08-13T19:03:36.251Z"
   },
   {
    "duration": 39,
    "start_time": "2021-08-13T19:03:38.535Z"
   },
   {
    "duration": 2249,
    "start_time": "2021-08-13T19:04:11.041Z"
   },
   {
    "duration": 544,
    "start_time": "2021-08-13T19:30:41.687Z"
   },
   {
    "duration": 321,
    "start_time": "2021-08-13T19:31:39.987Z"
   },
   {
    "duration": 1227,
    "start_time": "2021-08-13T19:31:59.325Z"
   },
   {
    "duration": 350,
    "start_time": "2021-08-13T19:32:22.295Z"
   },
   {
    "duration": 355,
    "start_time": "2021-08-13T19:33:13.816Z"
   },
   {
    "duration": 347,
    "start_time": "2021-08-13T19:34:09.510Z"
   },
   {
    "duration": 82,
    "start_time": "2021-08-13T19:34:27.533Z"
   },
   {
    "duration": 374,
    "start_time": "2021-08-13T19:34:42.386Z"
   },
   {
    "duration": 930,
    "start_time": "2021-08-13T19:34:53.622Z"
   },
   {
    "duration": 343,
    "start_time": "2021-08-13T19:38:24.756Z"
   },
   {
    "duration": 295,
    "start_time": "2021-08-13T19:39:13.901Z"
   },
   {
    "duration": 67,
    "start_time": "2021-08-13T19:39:43.972Z"
   },
   {
    "duration": 633,
    "start_time": "2021-08-13T19:40:07.368Z"
   },
   {
    "duration": 355,
    "start_time": "2021-08-13T19:40:14.520Z"
   },
   {
    "duration": 77,
    "start_time": "2021-08-13T19:40:53.438Z"
   },
   {
    "duration": 31,
    "start_time": "2021-08-13T19:41:13.127Z"
   },
   {
    "duration": 389,
    "start_time": "2021-08-13T19:47:17.098Z"
   },
   {
    "duration": 331,
    "start_time": "2021-08-13T19:47:30.870Z"
   },
   {
    "duration": 374,
    "start_time": "2021-08-13T19:48:10.360Z"
   },
   {
    "duration": 776,
    "start_time": "2021-08-13T19:48:37.766Z"
   },
   {
    "duration": 3248,
    "start_time": "2021-08-13T19:49:12.270Z"
   },
   {
    "duration": 349,
    "start_time": "2021-08-13T19:52:25.748Z"
   },
   {
    "duration": 309,
    "start_time": "2021-08-13T20:00:35.846Z"
   },
   {
    "duration": 296,
    "start_time": "2021-08-13T20:00:55.317Z"
   },
   {
    "duration": 93,
    "start_time": "2021-08-13T20:02:13.042Z"
   },
   {
    "duration": 343,
    "start_time": "2021-08-13T20:02:20.522Z"
   },
   {
    "duration": 343,
    "start_time": "2021-08-13T20:02:38.778Z"
   },
   {
    "duration": 72,
    "start_time": "2021-08-13T20:11:59.474Z"
   },
   {
    "duration": 347,
    "start_time": "2021-08-13T20:12:06.614Z"
   },
   {
    "duration": 363,
    "start_time": "2021-08-13T20:12:32.615Z"
   },
   {
    "duration": 358,
    "start_time": "2021-08-13T20:13:20.647Z"
   },
   {
    "duration": 323,
    "start_time": "2021-08-13T20:14:05.810Z"
   },
   {
    "duration": 329,
    "start_time": "2021-08-13T20:14:31.539Z"
   },
   {
    "duration": 350,
    "start_time": "2021-08-13T20:23:23.076Z"
   },
   {
    "duration": 297,
    "start_time": "2021-08-13T20:23:48.471Z"
   },
   {
    "duration": 286,
    "start_time": "2021-08-13T20:23:57.368Z"
   },
   {
    "duration": 367,
    "start_time": "2021-08-13T20:24:08.089Z"
   },
   {
    "duration": 315,
    "start_time": "2021-08-13T20:24:38.674Z"
   },
   {
    "duration": 364,
    "start_time": "2021-08-13T20:25:32.798Z"
   },
   {
    "duration": 322,
    "start_time": "2021-08-13T20:39:17.538Z"
   },
   {
    "duration": 484,
    "start_time": "2021-08-13T20:39:30.069Z"
   },
   {
    "duration": 362,
    "start_time": "2021-08-13T20:39:43.564Z"
   },
   {
    "duration": 342,
    "start_time": "2021-08-13T20:39:53.513Z"
   },
   {
    "duration": 62,
    "start_time": "2021-08-13T20:40:16.304Z"
   },
   {
    "duration": 66,
    "start_time": "2021-08-13T20:40:41.921Z"
   },
   {
    "duration": 349,
    "start_time": "2021-08-13T20:41:27.776Z"
   },
   {
    "duration": 66,
    "start_time": "2021-08-13T20:42:28.942Z"
   },
   {
    "duration": 327,
    "start_time": "2021-08-14T00:14:40.224Z"
   },
   {
    "duration": 286,
    "start_time": "2021-08-14T00:14:44.922Z"
   },
   {
    "duration": 3660,
    "start_time": "2021-08-14T00:15:01.398Z"
   },
   {
    "duration": 1269,
    "start_time": "2021-08-14T00:15:05.060Z"
   },
   {
    "duration": 634,
    "start_time": "2021-08-14T00:15:06.337Z"
   },
   {
    "duration": 70,
    "start_time": "2021-08-14T00:15:06.972Z"
   },
   {
    "duration": 88,
    "start_time": "2021-08-14T00:15:07.044Z"
   },
   {
    "duration": 1372,
    "start_time": "2021-08-14T00:15:07.133Z"
   },
   {
    "duration": 72,
    "start_time": "2021-08-14T00:15:08.507Z"
   },
   {
    "duration": 10,
    "start_time": "2021-08-14T00:15:08.580Z"
   },
   {
    "duration": 22,
    "start_time": "2021-08-14T00:15:08.593Z"
   },
   {
    "duration": 20,
    "start_time": "2021-08-14T00:16:40.709Z"
   },
   {
    "duration": 21,
    "start_time": "2021-08-14T00:18:20.601Z"
   },
   {
    "duration": 415,
    "start_time": "2021-08-14T00:30:40.257Z"
   },
   {
    "duration": 314,
    "start_time": "2021-08-14T00:31:17.804Z"
   },
   {
    "duration": 331,
    "start_time": "2021-08-14T00:31:45.956Z"
   },
   {
    "duration": 2471,
    "start_time": "2021-08-14T00:32:07.272Z"
   },
   {
    "duration": 1147,
    "start_time": "2021-08-14T00:32:09.745Z"
   },
   {
    "duration": 617,
    "start_time": "2021-08-14T00:32:10.894Z"
   },
   {
    "duration": 70,
    "start_time": "2021-08-14T00:32:11.514Z"
   },
   {
    "duration": 83,
    "start_time": "2021-08-14T00:32:11.585Z"
   },
   {
    "duration": 1386,
    "start_time": "2021-08-14T00:32:11.669Z"
   },
   {
    "duration": 71,
    "start_time": "2021-08-14T00:32:13.057Z"
   },
   {
    "duration": 401,
    "start_time": "2021-08-14T00:32:13.130Z"
   },
   {
    "duration": 318,
    "start_time": "2021-08-14T00:32:38.020Z"
   },
   {
    "duration": 327,
    "start_time": "2021-08-14T00:34:03.210Z"
   },
   {
    "duration": 349,
    "start_time": "2021-08-14T00:34:18.778Z"
   },
   {
    "duration": 79,
    "start_time": "2021-08-14T00:34:32.418Z"
   },
   {
    "duration": 76,
    "start_time": "2021-08-14T00:34:42.763Z"
   },
   {
    "duration": 78,
    "start_time": "2021-08-14T00:37:00.416Z"
   },
   {
    "duration": 22,
    "start_time": "2021-08-14T00:37:51.679Z"
   },
   {
    "duration": 27,
    "start_time": "2021-08-14T00:38:38.920Z"
   },
   {
    "duration": 328,
    "start_time": "2021-08-14T00:44:44.293Z"
   },
   {
    "duration": 81,
    "start_time": "2021-08-14T00:45:10.848Z"
   },
   {
    "duration": 363,
    "start_time": "2021-08-14T00:45:20.827Z"
   },
   {
    "duration": 79,
    "start_time": "2021-08-14T00:46:48.311Z"
   },
   {
    "duration": 24,
    "start_time": "2021-08-14T00:48:26.736Z"
   },
   {
    "duration": 24,
    "start_time": "2021-08-14T00:49:24.041Z"
   },
   {
    "duration": 25,
    "start_time": "2021-08-14T00:49:41.684Z"
   },
   {
    "duration": 274,
    "start_time": "2021-08-14T00:49:47.226Z"
   },
   {
    "duration": 93,
    "start_time": "2021-08-14T00:49:53.476Z"
   },
   {
    "duration": 76,
    "start_time": "2021-08-14T00:50:56.482Z"
   },
   {
    "duration": 77,
    "start_time": "2021-08-14T00:52:57.098Z"
   },
   {
    "duration": 366,
    "start_time": "2021-08-14T00:53:12.223Z"
   },
   {
    "duration": 77,
    "start_time": "2021-08-14T00:55:34.599Z"
   },
   {
    "duration": 81,
    "start_time": "2021-08-14T00:55:49.629Z"
   },
   {
    "duration": 83,
    "start_time": "2021-08-14T00:56:03.415Z"
   },
   {
    "duration": 83,
    "start_time": "2021-08-14T00:56:32.223Z"
   },
   {
    "duration": 76,
    "start_time": "2021-08-14T00:57:56.385Z"
   },
   {
    "duration": 82,
    "start_time": "2021-08-14T00:58:03.772Z"
   },
   {
    "duration": 101,
    "start_time": "2021-08-14T00:58:18.390Z"
   },
   {
    "duration": 325,
    "start_time": "2021-08-14T00:59:17.650Z"
   },
   {
    "duration": 72,
    "start_time": "2021-08-14T00:59:28.340Z"
   },
   {
    "duration": 74,
    "start_time": "2021-08-14T00:59:46.856Z"
   },
   {
    "duration": 75,
    "start_time": "2021-08-14T01:00:06.923Z"
   },
   {
    "duration": 74,
    "start_time": "2021-08-14T01:00:45.404Z"
   },
   {
    "duration": 329,
    "start_time": "2021-08-14T01:01:29.139Z"
   },
   {
    "duration": 324,
    "start_time": "2021-08-14T01:01:40.881Z"
   },
   {
    "duration": 328,
    "start_time": "2021-08-14T01:02:02.882Z"
   },
   {
    "duration": 89,
    "start_time": "2021-08-14T01:02:15.949Z"
   },
   {
    "duration": 336,
    "start_time": "2021-08-14T01:02:37.315Z"
   },
   {
    "duration": 327,
    "start_time": "2021-08-14T01:03:52.129Z"
   },
   {
    "duration": 80,
    "start_time": "2021-08-14T01:04:02.452Z"
   },
   {
    "duration": 89,
    "start_time": "2021-08-14T01:04:10.569Z"
   },
   {
    "duration": 349,
    "start_time": "2021-08-14T01:05:28.512Z"
   },
   {
    "duration": 79,
    "start_time": "2021-08-14T01:05:45.752Z"
   },
   {
    "duration": 79,
    "start_time": "2021-08-14T01:06:26.897Z"
   },
   {
    "duration": 347,
    "start_time": "2021-08-14T01:39:28.691Z"
   },
   {
    "duration": 350,
    "start_time": "2021-08-14T01:39:54.093Z"
   },
   {
    "duration": 326,
    "start_time": "2021-08-14T01:40:18.931Z"
   },
   {
    "duration": 100,
    "start_time": "2021-08-14T01:40:29.854Z"
   },
   {
    "duration": 119,
    "start_time": "2021-08-14T01:40:57.018Z"
   },
   {
    "duration": 73,
    "start_time": "2021-08-14T01:41:26.873Z"
   },
   {
    "duration": 336,
    "start_time": "2021-08-14T01:41:40.804Z"
   },
   {
    "duration": 336,
    "start_time": "2021-08-14T01:43:01.028Z"
   },
   {
    "duration": 326,
    "start_time": "2021-08-14T01:43:25.321Z"
   },
   {
    "duration": 321,
    "start_time": "2021-08-14T01:43:42.984Z"
   },
   {
    "duration": 325,
    "start_time": "2021-08-14T01:43:56.528Z"
   },
   {
    "duration": 328,
    "start_time": "2021-08-14T01:47:11.539Z"
   },
   {
    "duration": 337,
    "start_time": "2021-08-14T01:47:26.235Z"
   },
   {
    "duration": 70,
    "start_time": "2021-08-14T01:47:32.442Z"
   },
   {
    "duration": 72,
    "start_time": "2021-08-14T01:49:58.950Z"
   },
   {
    "duration": 71,
    "start_time": "2021-08-14T01:50:19.614Z"
   },
   {
    "duration": 71,
    "start_time": "2021-08-14T01:50:32.084Z"
   },
   {
    "duration": 72,
    "start_time": "2021-08-14T01:50:38.989Z"
   },
   {
    "duration": 72,
    "start_time": "2021-08-14T01:50:44.504Z"
   },
   {
    "duration": 328,
    "start_time": "2021-08-14T01:50:56.027Z"
   },
   {
    "duration": 326,
    "start_time": "2021-08-14T01:51:07.820Z"
   },
   {
    "duration": 321,
    "start_time": "2021-08-14T01:51:13.171Z"
   },
   {
    "duration": 70,
    "start_time": "2021-08-14T01:51:28.405Z"
   },
   {
    "duration": 70,
    "start_time": "2021-08-14T01:51:36.170Z"
   },
   {
    "duration": 72,
    "start_time": "2021-08-14T01:53:11.204Z"
   },
   {
    "duration": 2384,
    "start_time": "2021-08-14T01:55:08.456Z"
   },
   {
    "duration": 1185,
    "start_time": "2021-08-14T01:55:10.842Z"
   },
   {
    "duration": 642,
    "start_time": "2021-08-14T01:55:12.029Z"
   },
   {
    "duration": 72,
    "start_time": "2021-08-14T01:55:12.673Z"
   },
   {
    "duration": 85,
    "start_time": "2021-08-14T01:55:12.747Z"
   },
   {
    "duration": 1362,
    "start_time": "2021-08-14T01:55:12.834Z"
   },
   {
    "duration": 76,
    "start_time": "2021-08-14T01:55:14.198Z"
   },
   {
    "duration": 84,
    "start_time": "2021-08-14T01:55:14.276Z"
   },
   {
    "duration": 75,
    "start_time": "2021-08-14T01:55:14.361Z"
   },
   {
    "duration": 8808,
    "start_time": "2021-08-14T09:07:58.697Z"
   },
   {
    "duration": 1588,
    "start_time": "2021-08-14T09:08:07.508Z"
   },
   {
    "duration": 662,
    "start_time": "2021-08-14T09:08:09.099Z"
   },
   {
    "duration": 73,
    "start_time": "2021-08-14T09:08:09.764Z"
   },
   {
    "duration": 89,
    "start_time": "2021-08-14T09:08:09.839Z"
   },
   {
    "duration": 2244,
    "start_time": "2021-08-14T09:08:09.931Z"
   },
   {
    "duration": 77,
    "start_time": "2021-08-14T09:08:12.178Z"
   },
   {
    "duration": 84,
    "start_time": "2021-08-14T09:08:12.258Z"
   },
   {
    "duration": 73,
    "start_time": "2021-08-14T09:08:12.345Z"
   },
   {
    "duration": 4225,
    "start_time": "2021-08-23T05:17:35.462Z"
   },
   {
    "duration": 1467,
    "start_time": "2021-08-23T05:17:39.690Z"
   },
   {
    "duration": 548,
    "start_time": "2021-08-23T05:17:41.160Z"
   },
   {
    "duration": 59,
    "start_time": "2021-08-23T05:17:41.710Z"
   },
   {
    "duration": 73,
    "start_time": "2021-08-23T05:17:41.771Z"
   },
   {
    "duration": 2157,
    "start_time": "2021-08-23T05:17:41.847Z"
   },
   {
    "duration": 61,
    "start_time": "2021-08-23T05:17:44.007Z"
   },
   {
    "duration": 74,
    "start_time": "2021-08-23T05:17:44.071Z"
   },
   {
    "duration": 62,
    "start_time": "2021-08-23T05:17:44.147Z"
   },
   {
    "duration": 60,
    "start_time": "2021-08-23T05:17:44.211Z"
   },
   {
    "duration": 490,
    "start_time": "2021-08-23T05:19:24.424Z"
   },
   {
    "duration": 361,
    "start_time": "2021-08-23T05:19:39.551Z"
   },
   {
    "duration": 345,
    "start_time": "2021-08-23T05:19:59.603Z"
   },
   {
    "duration": 381,
    "start_time": "2021-08-23T05:20:27.887Z"
   },
   {
    "duration": 345,
    "start_time": "2021-08-23T05:21:00.618Z"
   },
   {
    "duration": 300,
    "start_time": "2021-08-23T05:21:26.811Z"
   },
   {
    "duration": 318,
    "start_time": "2021-08-23T05:23:06.349Z"
   },
   {
    "duration": 367,
    "start_time": "2021-08-23T05:23:40.304Z"
   },
   {
    "duration": 64,
    "start_time": "2021-08-23T05:24:11.327Z"
   },
   {
    "duration": 339,
    "start_time": "2021-08-23T05:24:38.589Z"
   },
   {
    "duration": 347,
    "start_time": "2021-08-23T05:25:19.178Z"
   },
   {
    "duration": 60,
    "start_time": "2021-08-23T05:25:44.252Z"
   },
   {
    "duration": 14,
    "start_time": "2021-08-23T05:28:25.615Z"
   },
   {
    "duration": 234,
    "start_time": "2021-08-23T05:29:47.679Z"
   },
   {
    "duration": 6335,
    "start_time": "2021-08-23T05:29:54.764Z"
   },
   {
    "duration": 62,
    "start_time": "2021-08-23T05:30:55.307Z"
   },
   {
    "duration": 28,
    "start_time": "2021-08-23T05:31:11.868Z"
   },
   {
    "duration": 22,
    "start_time": "2021-08-23T05:31:45.589Z"
   },
   {
    "duration": 33,
    "start_time": "2021-08-23T05:32:35.513Z"
   },
   {
    "duration": 28,
    "start_time": "2021-08-23T05:32:50.846Z"
   },
   {
    "duration": 296,
    "start_time": "2021-08-23T05:40:23.133Z"
   },
   {
    "duration": 62,
    "start_time": "2021-08-23T05:40:53.277Z"
   },
   {
    "duration": 61,
    "start_time": "2021-08-23T05:45:51.870Z"
   }
  ],
  "kernelspec": {
   "display_name": "Python 3",
   "language": "python",
   "name": "python3"
  },
  "language_info": {
   "codemirror_mode": {
    "name": "ipython",
    "version": 3
   },
   "file_extension": ".py",
   "mimetype": "text/x-python",
   "name": "python",
   "nbconvert_exporter": "python",
   "pygments_lexer": "ipython3",
   "version": "3.8.8"
  },
  "toc": {
   "base_numbering": 1,
   "nav_menu": {},
   "number_sections": true,
   "sideBar": true,
   "skip_h1_title": true,
   "title_cell": "Table of Contents",
   "title_sidebar": "Contents",
   "toc_cell": false,
   "toc_position": {},
   "toc_section_display": true,
   "toc_window_display": false
  }
 },
 "nbformat": 4,
 "nbformat_minor": 2
}
